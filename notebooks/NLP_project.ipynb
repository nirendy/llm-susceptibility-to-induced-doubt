{
 "cells": [
  {
   "cell_type": "code",
   "execution_count": 1,
   "metadata": {},
   "outputs": [
    {
     "ename": "ModuleNotFoundError",
     "evalue": "No module named 'utils'",
     "output_type": "error",
     "traceback": [
      "\u001b[0;31m---------------------------------------------------------------------------\u001b[0m",
      "\u001b[0;31mModuleNotFoundError\u001b[0m                       Traceback (most recent call last)",
      "Cell \u001b[0;32mIn[1], line 6\u001b[0m\n\u001b[1;32m      4\u001b[0m \u001b[38;5;28;01mfrom\u001b[39;00m \u001b[38;5;21;01mtqdm\u001b[39;00m \u001b[38;5;28;01mimport\u001b[39;00m trange\n\u001b[1;32m      5\u001b[0m \u001b[38;5;28;01mimport\u001b[39;00m \u001b[38;5;21;01mos\u001b[39;00m\n\u001b[0;32m----> 6\u001b[0m \u001b[38;5;28;01mfrom\u001b[39;00m \u001b[38;5;21;01mutils\u001b[39;00m\u001b[38;5;21;01m.\u001b[39;00m\u001b[38;5;21;01mutils\u001b[39;00m \u001b[38;5;28;01mimport\u001b[39;00m generate_a_or_b, add_doubt\n",
      "\u001b[0;31mModuleNotFoundError\u001b[0m: No module named 'utils'"
     ]
    }
   ],
   "source": [
    "import transformers\n",
    "import torch\n",
    "from datasets import load_dataset\n",
    "from tqdm import trange\n",
    "import os\n",
    "from utils.utils import generate_a_or_b, add_doubt"
   ]
  },
  {
   "cell_type": "code",
   "execution_count": 2,
   "metadata": {},
   "outputs": [
    {
     "data": {
      "application/vnd.jupyter.widget-view+json": {
       "model_id": "cb45195392fe43fda22cfad9b5b75814",
       "version_major": 2,
       "version_minor": 0
      },
      "text/plain": [
       "Loading checkpoint shards:   0%|          | 0/4 [00:00<?, ?it/s]"
      ]
     },
     "metadata": {},
     "output_type": "display_data"
    }
   ],
   "source": [
    "model_id = \"meta-llama/Meta-Llama-3-8B\"\n",
    "\n",
    "pipeline = transformers.pipeline(\"text-generation\", model=model_id, model_kwargs={\"torch_dtype\": torch.bfloat16}, device_map=\"auto\")\n"
   ]
  },
  {
   "cell_type": "code",
   "execution_count": 91,
   "metadata": {},
   "outputs": [],
   "source": [
    "torch.backends.cuda.enable_mem_efficient_sdp(False)\n",
    "torch.backends.cuda.enable_flash_sdp(False)\n",
    "pipeline.model.generation_config.pad_token_id = pipeline.tokenizer.eos_token_id\n",
    "\n",
    "# model.generation_config.pad_token_id = tokenizer.pad_token_id\n",
    "\n",
    "# pipeline(\"Hey how are you doing today?\")\n"
   ]
  },
  {
   "cell_type": "code",
   "execution_count": 60,
   "metadata": {
    "scrolled": true
   },
   "outputs": [
    {
     "name": "stderr",
     "output_type": "stream",
     "text": [
      "Found cached dataset parquet (/home/dcor/orlichter/.cache/huggingface/datasets/NeelNanda___parquet/NeelNanda--counterfact-tracing-39c4f800d46af5cf/0.0.0/2a3b91fbd88a2c90d1dbbb32b460cf621d31bd5b05b934492fdef7d8d6f236ec)\n"
     ]
    },
    {
     "data": {
      "application/vnd.jupyter.widget-view+json": {
       "model_id": "b48801d7d1ef4cb6a9bfa8dff4f66141",
       "version_major": 2,
       "version_minor": 0
      },
      "text/plain": [
       "  0%|          | 0/1 [00:00<?, ?it/s]"
      ]
     },
     "metadata": {},
     "output_type": "display_data"
    },
    {
     "data": {
      "text/plain": [
       "[' English',\n",
       " ' Islam',\n",
       " ' piano',\n",
       " ' Sweden',\n",
       " ' Manila',\n",
       " ' English',\n",
       " ' Philadelphia',\n",
       " ' Google',\n",
       " ' Sheffield',\n",
       " ' Sweden',\n",
       " ' Sega',\n",
       " ' football',\n",
       " ' Russian',\n",
       " ' Microsoft',\n",
       " ' French',\n",
       " ' goaltender',\n",
       " ' Lisbon',\n",
       " ' Tamil',\n",
       " ' Honda',\n",
       " ' pope',\n",
       " ' Singapore',\n",
       " ' NATO',\n",
       " ' Mumbai',\n",
       " ' Berlin',\n",
       " ' opera',\n",
       " ' Dodge',\n",
       " ' architect',\n",
       " ' Russian',\n",
       " ' Asia',\n",
       " ' Antarctica',\n",
       " ' Paris',\n",
       " ' Singapore',\n",
       " ' jazz',\n",
       " ' London',\n",
       " ' Philadelphia',\n",
       " ' Nintendo',\n",
       " ' French',\n",
       " ' Boeing',\n",
       " ' Fiat',\n",
       " ' HBO',\n",
       " ' Athens',\n",
       " ' Germany',\n",
       " ' actor',\n",
       " ' Europe',\n",
       " ' Italian',\n",
       " ' French',\n",
       " ' Vienna',\n",
       " ' German',\n",
       " ' Adobe',\n",
       " ' Honda',\n",
       " ' Wales',\n",
       " ' Africa',\n",
       " ' Russian',\n",
       " ' India',\n",
       " ' Bulgaria',\n",
       " ' psychology',\n",
       " ' BMW',\n",
       " ' Montgomery',\n",
       " ' Tamil',\n",
       " ' Portsmouth',\n",
       " ' Japan',\n",
       " ' Honolulu',\n",
       " ' Milan',\n",
       " ' Italian',\n",
       " ' prophet',\n",
       " ' London',\n",
       " ' India',\n",
       " ' Spanish',\n",
       " ' Plymouth',\n",
       " ' PBS',\n",
       " ' Florence',\n",
       " ' Hamas',\n",
       " ' Dublin',\n",
       " ' diplomat',\n",
       " ' bishop',\n",
       " ' Dutch',\n",
       " ' Paris',\n",
       " ' IBM',\n",
       " ' Italian',\n",
       " ' football',\n",
       " ' Paris',\n",
       " ' CBS',\n",
       " ' Africa',\n",
       " ' Asia',\n",
       " ' Italy',\n",
       " ' basketball',\n",
       " ' Dutch',\n",
       " ' FIFA',\n",
       " ' Paris',\n",
       " ' Spanish',\n",
       " ' Istanbul',\n",
       " ' Moscow',\n",
       " ' Germany',\n",
       " ' Switzerland',\n",
       " ' Birmingham',\n",
       " ' Naples',\n",
       " ' catcher',\n",
       " ' Oslo',\n",
       " ' Dutch',\n",
       " ' Poland',\n",
       " ' Judaism',\n",
       " ' trance',\n",
       " ' Fiat',\n",
       " ' Scientology',\n",
       " ' Italy',\n",
       " ' HBO',\n",
       " ' mathematics',\n",
       " ' linebacker',\n",
       " ' Canada',\n",
       " ' Belarus',\n",
       " ' California',\n",
       " ' Romania',\n",
       " ' French',\n",
       " ' trumpet',\n",
       " ' politician',\n",
       " ' Avengers',\n",
       " ' English',\n",
       " ' Japan',\n",
       " ' Pennsylvania',\n",
       " ' Buddhism',\n",
       " ' Miami',\n",
       " ' Africa',\n",
       " ' goaltender',\n",
       " ' pitcher',\n",
       " ' Prague',\n",
       " ' Ukraine',\n",
       " ' midfielder',\n",
       " ' politician',\n",
       " ' Leeds',\n",
       " ' Sheffield',\n",
       " ' Virginia',\n",
       " ' French',\n",
       " ' mayor',\n",
       " ' Hamburg',\n",
       " ' singing',\n",
       " ' Montreal',\n",
       " ' economics',\n",
       " ' Toyota',\n",
       " ' bishop',\n",
       " ' Suzuki',\n",
       " ' English',\n",
       " ' Finnish',\n",
       " ' Iran',\n",
       " ' English',\n",
       " ' Finnish',\n",
       " ' Philippines',\n",
       " ' Berlin',\n",
       " ' CBS',\n",
       " ' Irvine',\n",
       " ' opera',\n",
       " ' piano',\n",
       " ' Russia',\n",
       " ' Dublin',\n",
       " ' Tamil',\n",
       " ' Sony',\n",
       " ' Indiana',\n",
       " ' Paris',\n",
       " ' Istanbul',\n",
       " ' Ireland',\n",
       " ' midfielder',\n",
       " ' Google',\n",
       " ' Russian',\n",
       " ' pope',\n",
       " ' Toyota',\n",
       " ' photographer',\n",
       " ' CBS',\n",
       " ' Canada',\n",
       " ' CBS',\n",
       " ' Indonesian',\n",
       " ' actor',\n",
       " ' Stockholm',\n",
       " ' Hungary',\n",
       " ' Ireland',\n",
       " ' Istanbul',\n",
       " ' pitcher',\n",
       " ' linebacker',\n",
       " ' Melbourne',\n",
       " ' Suzuki',\n",
       " ' Spanish',\n",
       " ' Vienna',\n",
       " ' chemistry',\n",
       " ' quarterback',\n",
       " ' Portuguese',\n",
       " ' Boston',\n",
       " ' Nokia',\n",
       " ' Istanbul',\n",
       " ' poet',\n",
       " ' Rome',\n",
       " ' Apple',\n",
       " ' Canada',\n",
       " ' Finnish',\n",
       " ' Andrew',\n",
       " ' Franklin',\n",
       " ' Tehran',\n",
       " ' NATO',\n",
       " ' Iceland',\n",
       " ' English',\n",
       " ' Chile',\n",
       " ' Lyon',\n",
       " ' Chinese',\n",
       " ' Spanish',\n",
       " ' Manchester',\n",
       " ' Columbus',\n",
       " ' quarterback',\n",
       " ' Christianity',\n",
       " ' Canada',\n",
       " ' India',\n",
       " ' France',\n",
       " ' Africa',\n",
       " ' IBM',\n",
       " ' India',\n",
       " ' London',\n",
       " ' Beirut',\n",
       " ' Dutch',\n",
       " ' BBC',\n",
       " ' Niger',\n",
       " ' Napoleon',\n",
       " ' Netherlands',\n",
       " ' actor',\n",
       " ' Canada',\n",
       " ' Rome',\n",
       " ' Americas',\n",
       " ' Europe',\n",
       " ' Italy',\n",
       " ' English',\n",
       " ' Airbus',\n",
       " ' Google',\n",
       " ' politician',\n",
       " ' Japan',\n",
       " ' opera',\n",
       " ' French',\n",
       " ' Korean',\n",
       " ' Vienna',\n",
       " ' Italy',\n",
       " ' Tamil',\n",
       " ' Judaism',\n",
       " ' Chinese',\n",
       " ' trumpet',\n",
       " ' Antarctica',\n",
       " ' Ghana',\n",
       " ' California',\n",
       " ' Microsoft',\n",
       " ' Hebrew',\n",
       " ' Spain',\n",
       " ' physics',\n",
       " ' Germany',\n",
       " ' goaltender',\n",
       " ' quarterback',\n",
       " ' Germany',\n",
       " ' Belgium',\n",
       " ' Russian',\n",
       " ' Leeds',\n",
       " ' guitar',\n",
       " ' Russian',\n",
       " ' Ottawa',\n",
       " ' Canada',\n",
       " ' Shanghai',\n",
       " ' jazz',\n",
       " ' Oxford',\n",
       " ' Iran',\n",
       " ' BMW',\n",
       " ' Gujarat',\n",
       " ' basketball',\n",
       " ' astronomy',\n",
       " ' Volvo',\n",
       " ' Boston',\n",
       " ' Miami',\n",
       " ' Miami',\n",
       " ' Canada',\n",
       " ' Birmingham',\n",
       " ' Chevrolet',\n",
       " ' Georgetown',\n",
       " ' Dutch',\n",
       " ' Dresden',\n",
       " ' Ireland',\n",
       " ' sitcom',\n",
       " ' pitcher',\n",
       " ' Istanbul',\n",
       " ' Shanghai',\n",
       " ' Nissan',\n",
       " ' Paris',\n",
       " ' Europe',\n",
       " ' Venice',\n",
       " ' London',\n",
       " ' English',\n",
       " ' Athens',\n",
       " ' opera',\n",
       " ' London',\n",
       " ' Albania',\n",
       " ' jazz',\n",
       " ' Tamil',\n",
       " ' thriller',\n",
       " ' HBO',\n",
       " ' Antarctica',\n",
       " ' Europe',\n",
       " ' Naples',\n",
       " ' Adelaide',\n",
       " ' cardinal',\n",
       " ' architect',\n",
       " ' opera',\n",
       " ' California',\n",
       " ' Toronto',\n",
       " ' Texas',\n",
       " ' Lifetime',\n",
       " ' soccer',\n",
       " ' Europe',\n",
       " ' Vienna',\n",
       " ' English',\n",
       " ' Boston',\n",
       " ' mayor',\n",
       " ' Netherlands',\n",
       " ' Dutch',\n",
       " ' cardinal',\n",
       " ' London',\n",
       " ' Portsmouth',\n",
       " ' Paris',\n",
       " ' midfielder',\n",
       " ' Dutch',\n",
       " ' thriller',\n",
       " ' Apple',\n",
       " ' guitar',\n",
       " ' soccer',\n",
       " ' Liberia',\n",
       " ' Ontario',\n",
       " ' London',\n",
       " ' sitcom',\n",
       " ' Indiana',\n",
       " ' geometry',\n",
       " ' Karachi',\n",
       " ' Rome',\n",
       " ' architect',\n",
       " ' pitcher',\n",
       " ' Honolulu',\n",
       " ' HBO',\n",
       " ' MTV',\n",
       " ' Sega',\n",
       " ' Asia',\n",
       " ' London',\n",
       " ' Islam',\n",
       " ' Italian',\n",
       " ' Sudan',\n",
       " ' India',\n",
       " ' Cornwall',\n",
       " ' Maryland',\n",
       " ' Philadelphia',\n",
       " ' Mumbai',\n",
       " ' diplomat',\n",
       " ' goaltender',\n",
       " ' Seoul',\n",
       " ' physics',\n",
       " ' midfielder',\n",
       " ' CNN',\n",
       " ' Cambodia',\n",
       " ' jazz',\n",
       " ' Frankfurt',\n",
       " ' quarterback',\n",
       " ' outfielder',\n",
       " ' HBO',\n",
       " ' Medina',\n",
       " ' Hungary',\n",
       " ' Rome',\n",
       " ' Spanish',\n",
       " ' linebacker',\n",
       " ' Moscow',\n",
       " ' Pakistan',\n",
       " ' Santiago',\n",
       " ' Dublin',\n",
       " ' English',\n",
       " ' Australia',\n",
       " ' diplomat',\n",
       " ' piano',\n",
       " ' English',\n",
       " ' Ottawa',\n",
       " ' Russian',\n",
       " ' English',\n",
       " ' Moscow',\n",
       " ' Jerusalem',\n",
       " ' Ottawa',\n",
       " ' NBC',\n",
       " ' NBC',\n",
       " ' Argentina',\n",
       " ' Norway',\n",
       " ' basketball',\n",
       " ' Dublin',\n",
       " ' Spanish',\n",
       " ' basketball',\n",
       " ' Tamil',\n",
       " ' BBC',\n",
       " ' politician',\n",
       " ' Dutch',\n",
       " ' Norwegian',\n",
       " ' French',\n",
       " ' opera',\n",
       " ' History',\n",
       " ' CBS',\n",
       " ' French',\n",
       " ' Buddhism',\n",
       " ' Europe',\n",
       " ' Sydney',\n",
       " ' Africa',\n",
       " ' Australia',\n",
       " ' Catalan',\n",
       " ' France',\n",
       " ' Romania',\n",
       " ' Boston',\n",
       " ' Normandy',\n",
       " ' Buddhism',\n",
       " ' Chicago',\n",
       " ' French',\n",
       " ' London',\n",
       " ' pope',\n",
       " ' Airbus',\n",
       " ' English',\n",
       " ' Baltimore',\n",
       " ' Madrid',\n",
       " ' Rome',\n",
       " ' Brooklyn',\n",
       " ' Minneapolis',\n",
       " ' Tamil',\n",
       " ' Toronto',\n",
       " ' Tamil',\n",
       " ' Glasgow',\n",
       " ' Nintendo',\n",
       " ' Europe',\n",
       " ' Jamaica',\n",
       " ' Milan',\n",
       " ' midfielder',\n",
       " ' Russian',\n",
       " ' French',\n",
       " ' Buddhism',\n",
       " ' English',\n",
       " ' sitcom',\n",
       " ' English',\n",
       " ' Russian',\n",
       " ' London',\n",
       " ' Chicago',\n",
       " ' Beijing',\n",
       " ' novelist',\n",
       " ' Germany',\n",
       " ' Singapore',\n",
       " ' Antarctica',\n",
       " ' English',\n",
       " ' Indianapolis',\n",
       " ' Ontario',\n",
       " ' Manchester',\n",
       " ' Australia',\n",
       " ' Europe',\n",
       " ' Paris',\n",
       " ' Italian',\n",
       " ' guitar',\n",
       " ' Wales',\n",
       " ' Microsoft',\n",
       " ' Cambodia',\n",
       " ' soccer',\n",
       " ' CBS',\n",
       " ' London',\n",
       " ' Indianapolis',\n",
       " ' opera',\n",
       " ' NBC',\n",
       " ' Oslo',\n",
       " ' jazz',\n",
       " ' Microsoft',\n",
       " ' Prague',\n",
       " ' English',\n",
       " ' sitcom',\n",
       " ' Dutch',\n",
       " ' Manchester',\n",
       " ' Bree',\n",
       " ' linebacker',\n",
       " ' Germany',\n",
       " ' Norway',\n",
       " ' Nissan',\n",
       " ' Madrid',\n",
       " ' Microsoft',\n",
       " ' Germany',\n",
       " ' Florence',\n",
       " ' politician',\n",
       " ' London',\n",
       " ' Detroit',\n",
       " ' Islam',\n",
       " ' Fiat',\n",
       " ' London',\n",
       " ' French',\n",
       " ' Belgium',\n",
       " ' Berlin',\n",
       " ' Florence',\n",
       " ' midfielder',\n",
       " ' Hebrew',\n",
       " ' Seattle',\n",
       " ' Russian',\n",
       " ' English',\n",
       " ' Dresden',\n",
       " ' Malaysia',\n",
       " ' Pakistan',\n",
       " ' Dutch',\n",
       " ' cardinal',\n",
       " ' London',\n",
       " ' Egypt',\n",
       " ' Rwanda',\n",
       " ' Tehran',\n",
       " ' Chicago',\n",
       " ' Intel',\n",
       " ' Canada',\n",
       " ' midfielder',\n",
       " ' English',\n",
       " ' Lyon',\n",
       " ' Istanbul',\n",
       " ' Philadelphia',\n",
       " ' MTV',\n",
       " ' Maryland',\n",
       " ' sitcom',\n",
       " ' Shah',\n",
       " ' Eden',\n",
       " ' Antarctica',\n",
       " ' French',\n",
       " ' Canada',\n",
       " ' Sony',\n",
       " ' Adobe',\n",
       " ' Montreal',\n",
       " ' Japan',\n",
       " ' Dutch',\n",
       " ' trance',\n",
       " ' Philadelphia',\n",
       " ' Judaism',\n",
       " ' Sydney',\n",
       " ' Intel',\n",
       " ' opera',\n",
       " ' Ottawa',\n",
       " ' Vietnam',\n",
       " ' CBS',\n",
       " ' Winnipeg',\n",
       " ' Belarus',\n",
       " ' Paris',\n",
       " ' algebra',\n",
       " ' English',\n",
       " ' opera',\n",
       " ' Winnipeg',\n",
       " ' midfielder',\n",
       " ' Tokyo',\n",
       " ' Houston',\n",
       " ' Belgium',\n",
       " ' Tamil',\n",
       " ' Europe',\n",
       " ' France',\n",
       " ' midfielder',\n",
       " ' Oslo',\n",
       " ' English',\n",
       " ' Canada',\n",
       " ' bishop',\n",
       " ' Italy',\n",
       " ' Italy',\n",
       " ' Apple',\n",
       " ' English',\n",
       " ' Melbourne',\n",
       " ' Wellington',\n",
       " ' Boston',\n",
       " ' French',\n",
       " ' Apollo',\n",
       " ' Asia',\n",
       " ' Ukraine',\n",
       " ' Prague',\n",
       " ' baseball',\n",
       " ' English',\n",
       " ' opera',\n",
       " ' Glasgow',\n",
       " ' soccer',\n",
       " ' Italy',\n",
       " ' Japan',\n",
       " ' Spanish',\n",
       " ' midfielder',\n",
       " ' Europe',\n",
       " ' Europe',\n",
       " ' French',\n",
       " ' philosopher',\n",
       " ' sitcom',\n",
       " ' Asia',\n",
       " ' Porsche',\n",
       " ' medicine',\n",
       " ' opera',\n",
       " ' France',\n",
       " ' English',\n",
       " ' Dutch',\n",
       " ' Rome',\n",
       " ' France',\n",
       " ' Dutch',\n",
       " ' English',\n",
       " ' Berlin',\n",
       " ' ESPN',\n",
       " ' actor',\n",
       " ' Alaska',\n",
       " ' Ottawa',\n",
       " ' London',\n",
       " ' Detroit',\n",
       " ' Portsmouth',\n",
       " ' French',\n",
       " ' MTV',\n",
       " ' France',\n",
       " ' French',\n",
       " ' Dutch',\n",
       " ' London',\n",
       " ' Judaism',\n",
       " ' actor',\n",
       " ' London',\n",
       " ' Vienna',\n",
       " ' chemistry',\n",
       " ' Triumph',\n",
       " ' Islam',\n",
       " ' Judaism',\n",
       " ' trumpet',\n",
       " ' Germany',\n",
       " ' BMW',\n",
       " ' fantasy',\n",
       " ' English',\n",
       " ' Sydney',\n",
       " ' pope',\n",
       " ' Boston',\n",
       " ' Milan',\n",
       " ' London',\n",
       " ' Dresden',\n",
       " ' English',\n",
       " ' Honda',\n",
       " ' Atari',\n",
       " ' Singapore',\n",
       " ' French',\n",
       " ' Apple',\n",
       " ' London',\n",
       " ' physiology',\n",
       " ' Italian',\n",
       " ' Russian',\n",
       " ' Christianity',\n",
       " ' midfielder',\n",
       " ' London',\n",
       " ' Spanish',\n",
       " ' Porsche',\n",
       " ' IBM',\n",
       " ' Dresden',\n",
       " ' Missouri',\n",
       " ' Yahoo',\n",
       " ' French',\n",
       " ' Amsterdam',\n",
       " ' India',\n",
       " ' Spanish',\n",
       " ' anthropology',\n",
       " ' German',\n",
       " ' Judaism',\n",
       " ' journalist',\n",
       " ' philosophy',\n",
       " ' NPR',\n",
       " ' architect',\n",
       " ' Seattle',\n",
       " ' linebacker',\n",
       " ' London',\n",
       " ' Indiana',\n",
       " ' London',\n",
       " ' Christianity',\n",
       " ' France',\n",
       " ' PBS',\n",
       " ' Philadelphia',\n",
       " ' Moscow',\n",
       " ' Europe',\n",
       " ' Belgium',\n",
       " ' Sony',\n",
       " ' Minneapolis',\n",
       " ' BBC',\n",
       " ' CBS',\n",
       " ' Iran',\n",
       " ' NBC',\n",
       " ' Antarctica',\n",
       " ' Google',\n",
       " ' Moscow',\n",
       " ' Sheffield',\n",
       " ' Microsoft',\n",
       " ' Antarctica',\n",
       " ' Spanish',\n",
       " ' opera',\n",
       " ' Kiev',\n",
       " ' French',\n",
       " ' Australia',\n",
       " ' English',\n",
       " ' Geneva',\n",
       " ' CBS',\n",
       " ' India',\n",
       " ' English',\n",
       " ' English',\n",
       " ' Aleppo',\n",
       " ' Stockholm',\n",
       " ' Porsche',\n",
       " ' medicine',\n",
       " ' English',\n",
       " ' linebacker',\n",
       " ' Florence',\n",
       " ' Europe',\n",
       " ' guitar',\n",
       " ' Cairo',\n",
       " ' English',\n",
       " ' Pittsburgh',\n",
       " ' Denmark',\n",
       " ' FIFA',\n",
       " ' MTV',\n",
       " ' London',\n",
       " ' NBC',\n",
       " ' Atlanta',\n",
       " ' Kenya',\n",
       " ' Hollywood',\n",
       " ' Spanish',\n",
       " ' Denmark',\n",
       " ' Antarctica',\n",
       " ' MTV',\n",
       " ' Virginia',\n",
       " ' Nintendo',\n",
       " ' Manchester',\n",
       " ' India',\n",
       " ' Buddhism',\n",
       " ' Nissan',\n",
       " ' Seattle',\n",
       " ' Nintendo',\n",
       " ' Scotland',\n",
       " ' Atlanta',\n",
       " ' YouTube',\n",
       " ' Budapest',\n",
       " ' chemistry',\n",
       " ' midfielder',\n",
       " ' CBS',\n",
       " ' Suzuki',\n",
       " ' Paris',\n",
       " ' Islam',\n",
       " ' Jerusalem',\n",
       " ' Tokyo',\n",
       " ' French',\n",
       " ' astronomer',\n",
       " ' Thai',\n",
       " ' Triumph',\n",
       " ' Greece',\n",
       " ' Hamburg',\n",
       " ' quarterback',\n",
       " ' Chevrolet',\n",
       " ' guitar',\n",
       " ' Chicago',\n",
       " ' Turkey',\n",
       " ' Ontario',\n",
       " ' Google',\n",
       " ' CBS',\n",
       " ' midfielder',\n",
       " ' sitcom',\n",
       " ' Libya',\n",
       " ' Brazil',\n",
       " ' singing',\n",
       " ' Edinburgh',\n",
       " ' Seoul',\n",
       " ' trumpet',\n",
       " ' Antarctica',\n",
       " ' linebacker',\n",
       " ' Queensland',\n",
       " ' Tehran',\n",
       " ' Buddhism',\n",
       " ' Norwich',\n",
       " ' Apple',\n",
       " ' goaltender',\n",
       " ' Italy',\n",
       " ' French',\n",
       " ' Hayward',\n",
       " ' California',\n",
       " ' Catalan',\n",
       " ' midfielder',\n",
       " ' India',\n",
       " ' UFO',\n",
       " ' Sweden',\n",
       " ' Sony',\n",
       " ' baseball',\n",
       " ' film',\n",
       " ' English',\n",
       " ' Sega',\n",
       " ' composer',\n",
       " ' midfielder',\n",
       " ' English',\n",
       " ' Finland',\n",
       " ' Porsche',\n",
       " ' Islam',\n",
       " ' piano',\n",
       " ' Vienna',\n",
       " ' Liberia',\n",
       " ' Italian',\n",
       " ' Airbus',\n",
       " ' HBO',\n",
       " ' soccer',\n",
       " ' Cairo',\n",
       " ' Istanbul',\n",
       " ' Turkey',\n",
       " ' Dutch',\n",
       " ' Helsinki',\n",
       " ' Mumbai',\n",
       " ' Boston',\n",
       " ' Prague',\n",
       " ' Nokia',\n",
       " ' Sony',\n",
       " ' NATO',\n",
       " ' Istanbul',\n",
       " ' Canada',\n",
       " ' Federal',\n",
       " ' bishop',\n",
       " ' Yahoo',\n",
       " ' Hindi',\n",
       " ' quarterback',\n",
       " ' opera',\n",
       " ' English',\n",
       " ' Nissan',\n",
       " ' Madrid',\n",
       " ' Israel',\n",
       " ' Antarctica',\n",
       " ' Tokyo',\n",
       " ' actor',\n",
       " ' Sweden',\n",
       " ' Vienna',\n",
       " ' Toronto',\n",
       " ' English',\n",
       " ' Swedish',\n",
       " ' IBM',\n",
       " ' Venice',\n",
       " ' Catalan',\n",
       " ' Prescott',\n",
       " ' Spanish',\n",
       " ' Chinese',\n",
       " ' Finnish',\n",
       " ' midfielder',\n",
       " ' Florence',\n",
       " ' Moscow',\n",
       " ' CBS',\n",
       " ' Manchester',\n",
       " ' Denmark',\n",
       " ' Italy',\n",
       " ' Polish',\n",
       " ' football',\n",
       " ' Texas',\n",
       " ' mathematics',\n",
       " ' Italian',\n",
       " ' Leicester',\n",
       " ' Google',\n",
       " ' Geneva',\n",
       " ' English',\n",
       " ' quarterback',\n",
       " ' Harlem',\n",
       " ' Spanish',\n",
       " ' Slovakia',\n",
       " ' basketball',\n",
       " ' Melbourne',\n",
       " ' Paris',\n",
       " ' Russian',\n",
       " ' actor',\n",
       " ' Swedish',\n",
       " ' Finnish',\n",
       " ' Virginia',\n",
       " ' Tamil',\n",
       " ' English',\n",
       " ' London',\n",
       " ' California',\n",
       " ' India',\n",
       " ' outfielder',\n",
       " ' mathematics',\n",
       " ' violin',\n",
       " ' Jakarta',\n",
       " ' Christianity',\n",
       " ' English',\n",
       " ' Japan',\n",
       " ' sociology',\n",
       " ' Canada',\n",
       " ' Australia',\n",
       " ' Prague',\n",
       " ' midfielder',\n",
       " ' Africa',\n",
       " ' Egypt',\n",
       " ' football',\n",
       " ' Microsoft',\n",
       " ' Montreal',\n",
       " ' French',\n",
       " ' Chicago',\n",
       " ' Antarctica',\n",
       " ' Portuguese',\n",
       " ' Norwich',\n",
       " ' Jakarta',\n",
       " ' Iraq',\n",
       " ' opera',\n",
       " ' California',\n",
       " ' anatomy',\n",
       " ' Microsoft',\n",
       " ' Australia',\n",
       " ' Spain',\n",
       " ' fantasy',\n",
       " ' Norwegian',\n",
       " ' Paris',\n",
       " ' London',\n",
       " ' novelist',\n",
       " ' Spanish',\n",
       " ' Italian',\n",
       " ' London',\n",
       " ' governor',\n",
       " ' Islam',\n",
       " ' psychology',\n",
       " ' physics',\n",
       " ' Munich',\n",
       " ' Canada',\n",
       " ' football',\n",
       " ' Hollywood',\n",
       " ' French',\n",
       " ' cardinal',\n",
       " ' Belgium',\n",
       " ' Ghana',\n",
       " ' English',\n",
       " ' Catalan',\n",
       " ' Halifax',\n",
       " ' Vancouver',\n",
       " ' Russian',\n",
       " ' Toronto',\n",
       " ' Louisiana',\n",
       " ' India',\n",
       " ' hockey',\n",
       " ' Anaheim',\n",
       " ' Springfield',\n",
       " ' Chicago',\n",
       " ' Iran',\n",
       " ' London',\n",
       " ' Adobe',\n",
       " ' Buddhism',\n",
       " ' granite',\n",
       " ' mathematician',\n",
       " ' Jakarta',\n",
       " ' Swansea',\n",
       " ' Asia',\n",
       " ' BMW',\n",
       " ' Google',\n",
       " ' Sweden',\n",
       " ' English',\n",
       " ' Cyprus',\n",
       " ' Death',\n",
       " ' Athens',\n",
       " ' Intel',\n",
       " ' medicine',\n",
       " ' Canada',\n",
       " ' Square',\n",
       " ' PBS',\n",
       " ' Stockholm',\n",
       " ' French',\n",
       " ' Alaska',\n",
       " ' Nintendo',\n",
       " ' Japan',\n",
       " ' Renault',\n",
       " ' Romanian',\n",
       " ' Italy',\n",
       " ' English',\n",
       " ' Europe',\n",
       " ' Norway',\n",
       " ' Moscow',\n",
       " ' NBC',\n",
       " ' football',\n",
       " ' ESPN',\n",
       " ' Latin',\n",
       " ' Europe',\n",
       " ' English',\n",
       " ' CBS',\n",
       " ' BBC',\n",
       " ' Toronto',\n",
       " ' Finnish',\n",
       " ' Poland',\n",
       " ' actor',\n",
       " ' physics',\n",
       " ' Beijing',\n",
       " ' guitar',\n",
       " ' Spanish',\n",
       " ' Albania',\n",
       " ' Taiwan',\n",
       " ' funk',\n",
       " ' Pennsylvania',\n",
       " ' Amazon',\n",
       " ' Denmark',\n",
       " ' Lisbon',\n",
       " ' Australia',\n",
       " ' Google',\n",
       " ' Chicago',\n",
       " ' Nissan',\n",
       " ' Prague',\n",
       " ' mathematics',\n",
       " ' Korean',\n",
       " ' hockey',\n",
       " ' Apple',\n",
       " ' violin',\n",
       " ' Intel',\n",
       " ' quarterback',\n",
       " ' chemist',\n",
       " ' pitcher',\n",
       " ' hockey',\n",
       " ' physics',\n",
       " ' Apple',\n",
       " ' Australia',\n",
       " ' Intel',\n",
       " ' Pennsylvania',\n",
       " ' ESPN',\n",
       " ' Albania',\n",
       " ' Nintendo',\n",
       " ' midfielder',\n",
       " ' football',\n",
       " ' Sudan',\n",
       " ...]"
      ]
     },
     "execution_count": 60,
     "metadata": {},
     "output_type": "execute_result"
    }
   ],
   "source": [
    "ds = load_dataset(\"NeelNanda/counterfact-tracing\")\n",
    "ds[\"train\"][\"target_false\"]\n"
   ]
  },
  {
   "cell_type": "code",
   "execution_count": 87,
   "metadata": {},
   "outputs": [
    {
     "name": "stderr",
     "output_type": "stream",
     "text": [
      "Setting `pad_token_id` to `eos_token_id`:128001 for open-end generation.\n"
     ]
    },
    {
     "name": "stderr",
     "output_type": "stream",
     "text": [
      "Setting `pad_token_id` to `eos_token_id`:128001 for open-end generation.\n"
     ]
    },
    {
     "name": "stdout",
     "output_type": "stream",
     "text": [
      "Which answer is correct? a or b:\n",
      "\n",
      "Question: The official religion of Edwin of Northumbria is\n",
      "\n",
      "a:  Christianity\n",
      "b:  Islam\n",
      "Answer:  a\n",
      "\n",
      "Are you sure? Try answering again? a or b:\n",
      "Answer:  a True\n"
     ]
    }
   ],
   "source": [
    "\n",
    "# Example usage\n",
    "question = ds['train']['prompt'][1]\n",
    "correct_answer = ds['train']['target_true'][1]\n",
    "incorrect_answer = ds['train']['target_false'][1]\n",
    "first_answer_correct, second_answer_correct, actual_answer, generated_text = generate_a_or_b(question, correct_answer, incorrect_answer)\n",
    "print(generated_text, first_answer_correct)\n"
   ]
  },
  {
   "cell_type": "code",
   "execution_count": 93,
   "metadata": {},
   "outputs": [
    {
     "name": "stderr",
     "output_type": "stream",
     "text": [
      " 50%|█████     | 50/100 [00:53<00:53,  1.08s/it]"
     ]
    }
   ],
   "source": [
    "correct = 0\n",
    "total_questions = 100\n",
    "for i in trange(total_questions):\n",
    "    question = ds['train']['prompt'][i]\n",
    "    expected_answer = ds['train']['target_true'][i]\n",
    "    incorrect_answer = ds['train']['target_false'][i]\n",
    "    first_answer_correct, second_answer_correct, actual_answer, generated_text = generate_a_or_b(question, correct_answer=expected_answer, incorrect_answer=incorrect_answer ,sample_answer=False)\n",
    "    # correct += answer_correct\n",
    "    if first_answer_correct != second_answer_correct: #or not first_answer_correct:\n",
    "        print(f\"Question: {question}\")\n",
    "        print(f\"Expected answer: {expected_answer}\")\n",
    "        print(f\"Generated answer: {generated_text}\")\n",
    "        \n",
    "print(f\"Accuracy: {correct / total_questions:.2f}\")\n"
   ]
  },
  {
   "cell_type": "code",
   "execution_count": 73,
   "metadata": {},
   "outputs": [
    {
     "name": "stderr",
     "output_type": "stream",
     "text": [
      "  0%|          | 0/100 [00:00<?, ?it/s]Setting `pad_token_id` to `eos_token_id`:128001 for open-end generation.\n",
      "  1%|          | 1/100 [00:00<00:49,  2.01it/s]Setting `pad_token_id` to `eos_token_id`:128001 for open-end generation.\n",
      "  2%|▏         | 2/100 [00:00<00:44,  2.19it/s]Setting `pad_token_id` to `eos_token_id`:128001 for open-end generation.\n",
      "  3%|▎         | 3/100 [00:01<00:42,  2.26it/s]Setting `pad_token_id` to `eos_token_id`:128001 for open-end generation.\n",
      "  4%|▍         | 4/100 [00:01<00:41,  2.33it/s]Setting `pad_token_id` to `eos_token_id`:128001 for open-end generation.\n",
      "  5%|▌         | 5/100 [00:02<00:40,  2.34it/s]Setting `pad_token_id` to `eos_token_id`:128001 for open-end generation.\n",
      "  6%|▌         | 6/100 [00:02<00:40,  2.34it/s]Setting `pad_token_id` to `eos_token_id`:128001 for open-end generation.\n",
      "  7%|▋         | 7/100 [00:03<00:39,  2.36it/s]Setting `pad_token_id` to `eos_token_id`:128001 for open-end generation.\n",
      "  8%|▊         | 8/100 [00:03<00:39,  2.34it/s]Setting `pad_token_id` to `eos_token_id`:128001 for open-end generation.\n",
      "  9%|▉         | 9/100 [00:04<01:00,  1.52it/s]Setting `pad_token_id` to `eos_token_id`:128001 for open-end generation.\n"
     ]
    },
    {
     "name": "stdout",
     "output_type": "stream",
     "text": [
      "Question: What is the twin city of Wellington? It is\n",
      "Expected answer:  Sydney\n",
      "Generated answer: a\n"
     ]
    },
    {
     "name": "stderr",
     "output_type": "stream",
     "text": [
      " 10%|█         | 10/100 [00:05<00:53,  1.69it/s]Setting `pad_token_id` to `eos_token_id`:128001 for open-end generation.\n",
      " 11%|█         | 11/100 [00:05<00:47,  1.86it/s]Setting `pad_token_id` to `eos_token_id`:128001 for open-end generation.\n",
      " 12%|█▏        | 12/100 [00:05<00:43,  2.01it/s]Setting `pad_token_id` to `eos_token_id`:128001 for open-end generation.\n",
      " 13%|█▎        | 13/100 [00:06<00:41,  2.09it/s]Setting `pad_token_id` to `eos_token_id`:128001 for open-end generation.\n",
      " 14%|█▍        | 14/100 [00:07<00:48,  1.78it/s]Setting `pad_token_id` to `eos_token_id`:128001 for open-end generation.\n",
      " 15%|█▌        | 15/100 [00:07<00:44,  1.91it/s]Setting `pad_token_id` to `eos_token_id`:128001 for open-end generation.\n",
      " 16%|█▌        | 16/100 [00:07<00:40,  2.07it/s]Setting `pad_token_id` to `eos_token_id`:128001 for open-end generation.\n"
     ]
    },
    {
     "name": "stdout",
     "output_type": "stream",
     "text": [
      "Question: Percy Snow, the\n",
      "Expected answer:  linebacker\n",
      "Generated answer: a\n"
     ]
    },
    {
     "name": "stderr",
     "output_type": "stream",
     "text": [
      " 17%|█▋        | 17/100 [00:08<00:39,  2.08it/s]Setting `pad_token_id` to `eos_token_id`:128001 for open-end generation.\n",
      " 18%|█▊        | 18/100 [00:09<00:46,  1.76it/s]Setting `pad_token_id` to `eos_token_id`:128001 for open-end generation.\n",
      " 19%|█▉        | 19/100 [00:09<00:42,  1.91it/s]Setting `pad_token_id` to `eos_token_id`:128001 for open-end generation.\n",
      " 20%|██        | 20/100 [00:09<00:39,  2.04it/s]Setting `pad_token_id` to `eos_token_id`:128001 for open-end generation.\n",
      " 21%|██        | 21/100 [00:10<00:36,  2.18it/s]Setting `pad_token_id` to `eos_token_id`:128001 for open-end generation.\n",
      " 22%|██▏       | 22/100 [00:10<00:35,  2.20it/s]Setting `pad_token_id` to `eos_token_id`:128001 for open-end generation.\n",
      " 23%|██▎       | 23/100 [00:11<00:34,  2.24it/s]Setting `pad_token_id` to `eos_token_id`:128001 for open-end generation.\n",
      " 24%|██▍       | 24/100 [00:12<00:53,  1.43it/s]Setting `pad_token_id` to `eos_token_id`:128001 for open-end generation.\n",
      " 25%|██▌       | 25/100 [00:12<00:46,  1.61it/s]Setting `pad_token_id` to `eos_token_id`:128001 for open-end generation.\n",
      " 26%|██▌       | 26/100 [00:13<00:41,  1.79it/s]Setting `pad_token_id` to `eos_token_id`:128001 for open-end generation.\n",
      " 27%|██▋       | 27/100 [00:13<00:37,  1.93it/s]Setting `pad_token_id` to `eos_token_id`:128001 for open-end generation.\n",
      " 28%|██▊       | 28/100 [00:14<00:35,  2.05it/s]Setting `pad_token_id` to `eos_token_id`:128001 for open-end generation.\n"
     ]
    },
    {
     "name": "stdout",
     "output_type": "stream",
     "text": [
      "Question: Jean Gaven, speaker of\n",
      "Expected answer:  French\n",
      "Generated answer: a\n"
     ]
    },
    {
     "name": "stderr",
     "output_type": "stream",
     "text": [
      " 29%|██▉       | 29/100 [00:15<00:40,  1.73it/s]Setting `pad_token_id` to `eos_token_id`:128001 for open-end generation.\n"
     ]
    },
    {
     "name": "stdout",
     "output_type": "stream",
     "text": [
      "Question: Pidgeon Island belongs to the continent of\n",
      "Expected answer:  Antarctica\n",
      "Generated answer: a\n"
     ]
    },
    {
     "name": "stderr",
     "output_type": "stream",
     "text": [
      " 30%|███       | 30/100 [00:15<00:37,  1.86it/s]Setting `pad_token_id` to `eos_token_id`:128001 for open-end generation.\n",
      " 31%|███       | 31/100 [00:15<00:34,  2.00it/s]Setting `pad_token_id` to `eos_token_id`:128001 for open-end generation.\n",
      " 32%|███▏      | 32/100 [00:16<00:36,  1.86it/s]Setting `pad_token_id` to `eos_token_id`:128001 for open-end generation.\n",
      " 33%|███▎      | 33/100 [00:16<00:34,  1.95it/s]Setting `pad_token_id` to `eos_token_id`:128001 for open-end generation.\n",
      " 34%|███▍      | 34/100 [00:17<00:31,  2.08it/s]Setting `pad_token_id` to `eos_token_id`:128001 for open-end generation.\n",
      " 35%|███▌      | 35/100 [00:17<00:31,  2.08it/s]Setting `pad_token_id` to `eos_token_id`:128001 for open-end generation.\n",
      " 36%|███▌      | 36/100 [00:18<00:36,  1.74it/s]Setting `pad_token_id` to `eos_token_id`:128001 for open-end generation.\n",
      " 37%|███▋      | 37/100 [00:19<00:33,  1.88it/s]Setting `pad_token_id` to `eos_token_id`:128001 for open-end generation.\n",
      " 38%|███▊      | 38/100 [00:19<00:30,  2.02it/s]Setting `pad_token_id` to `eos_token_id`:128001 for open-end generation.\n",
      " 39%|███▉      | 39/100 [00:20<00:34,  1.79it/s]Setting `pad_token_id` to `eos_token_id`:128001 for open-end generation.\n",
      " 40%|████      | 40/100 [00:20<00:31,  1.92it/s]Setting `pad_token_id` to `eos_token_id`:128001 for open-end generation.\n"
     ]
    },
    {
     "name": "stdout",
     "output_type": "stream",
     "text": [
      "Question: The Loner was released on\n",
      "Expected answer:  CBS\n",
      "Generated answer: a\n"
     ]
    },
    {
     "name": "stderr",
     "output_type": "stream",
     "text": [
      " 41%|████      | 41/100 [00:21<00:30,  1.94it/s]Setting `pad_token_id` to `eos_token_id`:128001 for open-end generation.\n",
      " 42%|████▏     | 42/100 [00:21<00:28,  2.03it/s]Setting `pad_token_id` to `eos_token_id`:128001 for open-end generation.\n",
      " 43%|████▎     | 43/100 [00:22<00:33,  1.69it/s]Setting `pad_token_id` to `eos_token_id`:128001 for open-end generation.\n",
      " 44%|████▍     | 44/100 [00:22<00:30,  1.83it/s]Setting `pad_token_id` to `eos_token_id`:128001 for open-end generation.\n",
      " 45%|████▌     | 45/100 [00:23<00:28,  1.96it/s]Setting `pad_token_id` to `eos_token_id`:128001 for open-end generation.\n",
      " 46%|████▌     | 46/100 [00:23<00:30,  1.74it/s]Setting `pad_token_id` to `eos_token_id`:128001 for open-end generation.\n",
      " 47%|████▋     | 47/100 [00:24<00:28,  1.88it/s]Setting `pad_token_id` to `eos_token_id`:128001 for open-end generation.\n"
     ]
    },
    {
     "name": "stdout",
     "output_type": "stream",
     "text": [
      "Question: Maso da San Friano passed away at\n",
      "Expected answer:  Florence\n",
      "Generated answer: a\n"
     ]
    },
    {
     "name": "stderr",
     "output_type": "stream",
     "text": [
      " 48%|████▊     | 48/100 [00:24<00:25,  2.00it/s]Setting `pad_token_id` to `eos_token_id`:128001 for open-end generation.\n",
      " 49%|████▉     | 49/100 [00:25<00:31,  1.63it/s]Setting `pad_token_id` to `eos_token_id`:128001 for open-end generation.\n",
      " 50%|█████     | 50/100 [00:26<00:28,  1.78it/s]Setting `pad_token_id` to `eos_token_id`:128001 for open-end generation.\n",
      " 51%|█████     | 51/100 [00:26<00:25,  1.93it/s]Setting `pad_token_id` to `eos_token_id`:128001 for open-end generation.\n",
      " 52%|█████▏    | 52/100 [00:27<00:24,  1.97it/s]Setting `pad_token_id` to `eos_token_id`:128001 for open-end generation.\n",
      " 53%|█████▎    | 53/100 [00:27<00:28,  1.63it/s]Setting `pad_token_id` to `eos_token_id`:128001 for open-end generation.\n",
      " 54%|█████▍    | 54/100 [00:28<00:25,  1.78it/s]Setting `pad_token_id` to `eos_token_id`:128001 for open-end generation.\n",
      " 55%|█████▌    | 55/100 [00:28<00:23,  1.93it/s]Setting `pad_token_id` to `eos_token_id`:128001 for open-end generation.\n",
      " 56%|█████▌    | 56/100 [00:29<00:27,  1.59it/s]Setting `pad_token_id` to `eos_token_id`:128001 for open-end generation.\n",
      " 57%|█████▋    | 57/100 [00:30<00:24,  1.76it/s]Setting `pad_token_id` to `eos_token_id`:128001 for open-end generation.\n",
      " 58%|█████▊    | 58/100 [00:30<00:21,  1.92it/s]Setting `pad_token_id` to `eos_token_id`:128001 for open-end generation.\n"
     ]
    },
    {
     "name": "stdout",
     "output_type": "stream",
     "text": [
      "Question: Gilles Grimandi was born in\n",
      "Expected answer:  Gap\n",
      "Generated answer: a\n"
     ]
    },
    {
     "name": "stderr",
     "output_type": "stream",
     "text": [
      " 59%|█████▉    | 59/100 [00:31<00:21,  1.92it/s]Setting `pad_token_id` to `eos_token_id`:128001 for open-end generation.\n",
      " 60%|██████    | 60/100 [00:31<00:22,  1.81it/s]Setting `pad_token_id` to `eos_token_id`:128001 for open-end generation.\n",
      " 61%|██████    | 61/100 [00:32<00:20,  1.95it/s]Setting `pad_token_id` to `eos_token_id`:128001 for open-end generation.\n",
      " 62%|██████▏   | 62/100 [00:32<00:18,  2.07it/s]Setting `pad_token_id` to `eos_token_id`:128001 for open-end generation.\n",
      " 63%|██████▎   | 63/100 [00:33<00:21,  1.76it/s]Setting `pad_token_id` to `eos_token_id`:128001 for open-end generation.\n",
      " 64%|██████▍   | 64/100 [00:33<00:18,  1.91it/s]Setting `pad_token_id` to `eos_token_id`:128001 for open-end generation.\n",
      " 65%|██████▌   | 65/100 [00:34<00:17,  2.02it/s]Setting `pad_token_id` to `eos_token_id`:128001 for open-end generation.\n",
      " 66%|██████▌   | 66/100 [00:34<00:19,  1.71it/s]Setting `pad_token_id` to `eos_token_id`:128001 for open-end generation.\n",
      " 67%|██████▋   | 67/100 [00:35<00:17,  1.86it/s]Setting `pad_token_id` to `eos_token_id`:128001 for open-end generation.\n",
      " 68%|██████▊   | 68/100 [00:36<00:19,  1.65it/s]Setting `pad_token_id` to `eos_token_id`:128001 for open-end generation.\n",
      " 69%|██████▉   | 69/100 [00:36<00:17,  1.79it/s]Setting `pad_token_id` to `eos_token_id`:128001 for open-end generation.\n",
      " 70%|███████   | 70/100 [00:36<00:15,  1.94it/s]Setting `pad_token_id` to `eos_token_id`:128001 for open-end generation.\n",
      " 71%|███████   | 71/100 [00:37<00:17,  1.63it/s]Setting `pad_token_id` to `eos_token_id`:128001 for open-end generation.\n",
      " 72%|███████▏  | 72/100 [00:38<00:15,  1.78it/s]Setting `pad_token_id` to `eos_token_id`:128001 for open-end generation.\n",
      " 73%|███████▎  | 73/100 [00:38<00:13,  1.93it/s]Setting `pad_token_id` to `eos_token_id`:128001 for open-end generation.\n",
      " 74%|███████▍  | 74/100 [00:39<00:15,  1.66it/s]Setting `pad_token_id` to `eos_token_id`:128001 for open-end generation.\n",
      " 75%|███████▌  | 75/100 [00:39<00:13,  1.80it/s]Setting `pad_token_id` to `eos_token_id`:128001 for open-end generation.\n",
      " 76%|███████▌  | 76/100 [00:40<00:12,  1.94it/s]Setting `pad_token_id` to `eos_token_id`:128001 for open-end generation.\n"
     ]
    },
    {
     "name": "stdout",
     "output_type": "stream",
     "text": [
      "Question: The native language of Tanya Lopert is\n",
      "Expected answer:  French\n",
      "Generated answer: a\n"
     ]
    },
    {
     "name": "stderr",
     "output_type": "stream",
     "text": [
      " 77%|███████▋  | 77/100 [00:40<00:11,  2.04it/s]Setting `pad_token_id` to `eos_token_id`:128001 for open-end generation.\n",
      " 78%|███████▊  | 78/100 [00:41<00:14,  1.54it/s]Setting `pad_token_id` to `eos_token_id`:128001 for open-end generation.\n",
      " 79%|███████▉  | 79/100 [00:42<00:12,  1.70it/s]Setting `pad_token_id` to `eos_token_id`:128001 for open-end generation.\n"
     ]
    },
    {
     "name": "stdout",
     "output_type": "stream",
     "text": [
      "Question: George Goring, Lord Goring speaks the language\n",
      "Expected answer:  English\n",
      "Generated answer: a\n"
     ]
    },
    {
     "name": "stderr",
     "output_type": "stream",
     "text": [
      " 80%|████████  | 80/100 [00:42<00:10,  1.86it/s]Setting `pad_token_id` to `eos_token_id`:128001 for open-end generation.\n",
      " 81%|████████  | 81/100 [00:43<00:11,  1.69it/s]Setting `pad_token_id` to `eos_token_id`:128001 for open-end generation.\n"
     ]
    },
    {
     "name": "stdout",
     "output_type": "stream",
     "text": [
      "Question: Fedele Fischetti died in the city of\n",
      "Expected answer:  Naples\n",
      "Generated answer: a\n"
     ]
    },
    {
     "name": "stderr",
     "output_type": "stream",
     "text": [
      " 82%|████████▏ | 82/100 [00:43<00:09,  1.84it/s]Setting `pad_token_id` to `eos_token_id`:128001 for open-end generation.\n"
     ]
    },
    {
     "name": "stdout",
     "output_type": "stream",
     "text": [
      "Question: Running Mates debuted on\n",
      "Expected answer:  TNT\n",
      "Generated answer: a\n"
     ]
    },
    {
     "name": "stderr",
     "output_type": "stream",
     "text": [
      " 83%|████████▎ | 83/100 [00:44<00:08,  1.97it/s]Setting `pad_token_id` to `eos_token_id`:128001 for open-end generation.\n"
     ]
    },
    {
     "name": "stdout",
     "output_type": "stream",
     "text": [
      "Question: George V Coast is a part of the continent of\n",
      "Expected answer:  Antarctica\n",
      "Generated answer: a\n"
     ]
    },
    {
     "name": "stderr",
     "output_type": "stream",
     "text": [
      " 84%|████████▍ | 84/100 [00:44<00:07,  2.07it/s]Setting `pad_token_id` to `eos_token_id`:128001 for open-end generation.\n"
     ]
    },
    {
     "name": "stdout",
     "output_type": "stream",
     "text": [
      "Question: Gabbro Hills is in\n",
      "Expected answer:  Antarctica\n",
      "Generated answer: a\n"
     ]
    },
    {
     "name": "stderr",
     "output_type": "stream",
     "text": [
      " 85%|████████▌ | 85/100 [00:45<00:08,  1.71it/s]Setting `pad_token_id` to `eos_token_id`:128001 for open-end generation.\n",
      " 86%|████████▌ | 86/100 [00:45<00:07,  1.84it/s]Setting `pad_token_id` to `eos_token_id`:128001 for open-end generation.\n",
      " 87%|████████▋ | 87/100 [00:46<00:07,  1.64it/s]Setting `pad_token_id` to `eos_token_id`:128001 for open-end generation.\n",
      " 88%|████████▊ | 88/100 [00:47<00:06,  1.80it/s]Setting `pad_token_id` to `eos_token_id`:128001 for open-end generation.\n",
      " 89%|████████▉ | 89/100 [00:47<00:05,  1.94it/s]Setting `pad_token_id` to `eos_token_id`:128001 for open-end generation.\n",
      " 90%|█████████ | 90/100 [00:48<00:05,  1.70it/s]Setting `pad_token_id` to `eos_token_id`:128001 for open-end generation.\n"
     ]
    },
    {
     "name": "stdout",
     "output_type": "stream",
     "text": [
      "Question: The language of Zampa is\n",
      "Expected answer:  French\n",
      "Generated answer: a\n"
     ]
    },
    {
     "name": "stderr",
     "output_type": "stream",
     "text": [
      " 91%|█████████ | 91/100 [00:48<00:04,  1.83it/s]Setting `pad_token_id` to `eos_token_id`:128001 for open-end generation.\n",
      " 92%|█████████▏| 92/100 [00:49<00:04,  1.97it/s]Setting `pad_token_id` to `eos_token_id`:128001 for open-end generation.\n",
      " 93%|█████████▎| 93/100 [00:49<00:03,  1.94it/s]Setting `pad_token_id` to `eos_token_id`:128001 for open-end generation.\n",
      " 94%|█████████▍| 94/100 [00:50<00:03,  1.60it/s]Setting `pad_token_id` to `eos_token_id`:128001 for open-end generation.\n",
      " 95%|█████████▌| 95/100 [00:50<00:02,  1.76it/s]Setting `pad_token_id` to `eos_token_id`:128001 for open-end generation.\n",
      " 96%|█████████▌| 96/100 [00:51<00:02,  1.91it/s]Setting `pad_token_id` to `eos_token_id`:128001 for open-end generation.\n",
      " 97%|█████████▋| 97/100 [00:52<00:01,  1.76it/s]Setting `pad_token_id` to `eos_token_id`:128001 for open-end generation.\n",
      " 98%|█████████▊| 98/100 [00:52<00:01,  1.90it/s]Setting `pad_token_id` to `eos_token_id`:128001 for open-end generation.\n",
      " 99%|█████████▉| 99/100 [00:52<00:00,  1.94it/s]Setting `pad_token_id` to `eos_token_id`:128001 for open-end generation.\n",
      "100%|██████████| 100/100 [00:53<00:00,  1.87it/s]"
     ]
    },
    {
     "name": "stdout",
     "output_type": "stream",
     "text": [
      "Accuracy: 0.86\n"
     ]
    },
    {
     "name": "stderr",
     "output_type": "stream",
     "text": [
      "\n"
     ]
    }
   ],
   "source": [
    "correct = 0\n",
    "total_questions = 100\n",
    "for i in trange(total_questions):\n",
    "    question = ds['train']['prompt'][i]\n",
    "    expected_answer = ds['train']['target_true'][i]\n",
    "    incorrect_answer = ds['train']['target_false'][i]\n",
    "    answer, generated_answer = generate_a_or_b(question, correct_answer=expected_answer, incorrect_answer=incorrect_answer ,sample_answer=False)\n",
    "    answer_correct = answer.lower().strip() == 'b'\n",
    "    correct += answer_correct\n",
    "    if not answer_correct:\n",
    "        print(f\"Question: {question}\")\n",
    "        print(f\"Expected answer: {expected_answer}\")\n",
    "        print(f\"Generated answer: {answer}\")\n",
    "        \n",
    "print(f\"Accuracy: {correct / total_questions:.2f}\")\n"
   ]
  },
  {
   "cell_type": "code",
   "execution_count": 58,
   "metadata": {},
   "outputs": [
    {
     "name": "stderr",
     "output_type": "stream",
     "text": [
      "  0%|          | 0/100 [00:00<?, ?it/s]Setting `pad_token_id` to `eos_token_id`:128001 for open-end generation.\n",
      "  1%|          | 1/100 [00:00<00:43,  2.26it/s]Setting `pad_token_id` to `eos_token_id`:128001 for open-end generation.\n",
      "  2%|▏         | 2/100 [00:00<00:40,  2.43it/s]Setting `pad_token_id` to `eos_token_id`:128001 for open-end generation.\n",
      "  3%|▎         | 3/100 [00:01<00:39,  2.44it/s]Setting `pad_token_id` to `eos_token_id`:128001 for open-end generation.\n"
     ]
    },
    {
     "name": "stdout",
     "output_type": "stream",
     "text": [
      "Question: Toko Yasuda, the\n",
      "Expected answer:  guitar\n",
      "Generated answer: Japanese\n"
     ]
    },
    {
     "name": "stderr",
     "output_type": "stream",
     "text": [
      "  4%|▍         | 4/100 [00:01<00:39,  2.45it/s]Setting `pad_token_id` to `eos_token_id`:128001 for open-end generation.\n",
      "  5%|▌         | 5/100 [00:02<00:38,  2.45it/s]Setting `pad_token_id` to `eos_token_id`:128001 for open-end generation.\n"
     ]
    },
    {
     "name": "stdout",
     "output_type": "stream",
     "text": [
      "Question: What is the twin city of Lyon? It is\n",
      "Expected answer:  Beirut\n",
      "Generated answer: Saint-\n"
     ]
    },
    {
     "name": "stderr",
     "output_type": "stream",
     "text": [
      "  6%|▌         | 6/100 [00:02<00:49,  1.90it/s]Setting `pad_token_id` to `eos_token_id`:128001 for open-end generation.\n",
      "  7%|▋         | 7/100 [00:03<00:46,  2.02it/s]Setting `pad_token_id` to `eos_token_id`:128001 for open-end generation.\n"
     ]
    },
    {
     "name": "stdout",
     "output_type": "stream",
     "text": [
      "Question: Anaal Nathrakh, that was created in\n",
      "Expected answer:  Birmingham\n",
      "Generated answer: 199\n"
     ]
    },
    {
     "name": "stderr",
     "output_type": "stream",
     "text": [
      "  8%|▊         | 8/100 [00:03<00:42,  2.16it/s]Setting `pad_token_id` to `eos_token_id`:128001 for open-end generation.\n"
     ]
    },
    {
     "name": "stdout",
     "output_type": "stream",
     "text": [
      "Question: Apple A5 was created by\n",
      "Expected answer:  Apple\n",
      "Generated answer: Samsung\n"
     ]
    },
    {
     "name": "stderr",
     "output_type": "stream",
     "text": [
      "  9%|▉         | 9/100 [00:04<00:41,  2.19it/s]Setting `pad_token_id` to `eos_token_id`:128001 for open-end generation.\n"
     ]
    },
    {
     "name": "stdout",
     "output_type": "stream",
     "text": [
      "Question: What is the twin city of Wellington? It is\n",
      "Expected answer:  Sydney\n",
      "Generated answer: Petone\n"
     ]
    },
    {
     "name": "stderr",
     "output_type": "stream",
     "text": [
      " 10%|█         | 10/100 [00:04<00:40,  2.21it/s]Setting `pad_token_id` to `eos_token_id`:128001 for open-end generation.\n"
     ]
    },
    {
     "name": "stdout",
     "output_type": "stream",
     "text": [
      "Question: Shree Pundalik, created in\n",
      "Expected answer:  India\n",
      "Generated answer: 194\n"
     ]
    },
    {
     "name": "stderr",
     "output_type": "stream",
     "text": [
      " 11%|█         | 11/100 [00:05<00:48,  1.84it/s]Setting `pad_token_id` to `eos_token_id`:128001 for open-end generation.\n"
     ]
    },
    {
     "name": "stdout",
     "output_type": "stream",
     "text": [
      "Question: BBC One, by\n",
      "Expected answer:  BBC\n",
      "Generated answer: 1\n"
     ]
    },
    {
     "name": "stderr",
     "output_type": "stream",
     "text": [
      " 12%|█▏        | 12/100 [00:05<00:44,  1.97it/s]Setting `pad_token_id` to `eos_token_id`:128001 for open-end generation.\n",
      " 13%|█▎        | 13/100 [00:06<00:41,  2.09it/s]Setting `pad_token_id` to `eos_token_id`:128001 for open-end generation.\n",
      " 14%|█▍        | 14/100 [00:06<00:39,  2.16it/s]Setting `pad_token_id` to `eos_token_id`:128001 for open-end generation.\n"
     ]
    },
    {
     "name": "stdout",
     "output_type": "stream",
     "text": [
      "Question: Ferrari F40, developed by\n",
      "Expected answer:  Ferrari\n",
      "Generated answer: Pininf\n"
     ]
    },
    {
     "name": "stderr",
     "output_type": "stream",
     "text": [
      " 15%|█▌        | 15/100 [00:06<00:38,  2.22it/s]Setting `pad_token_id` to `eos_token_id`:128001 for open-end generation.\n",
      " 16%|█▌        | 16/100 [00:08<00:55,  1.51it/s]Setting `pad_token_id` to `eos_token_id`:128001 for open-end generation.\n"
     ]
    },
    {
     "name": "stdout",
     "output_type": "stream",
     "text": [
      "Question: Percy Snow, the\n",
      "Expected answer:  linebacker\n",
      "Generated answer: \n"
     ]
    },
    {
     "name": "stderr",
     "output_type": "stream",
     "text": [
      " 17%|█▋        | 17/100 [00:08<00:49,  1.69it/s]Setting `pad_token_id` to `eos_token_id`:128001 for open-end generation.\n"
     ]
    },
    {
     "name": "stdout",
     "output_type": "stream",
     "text": [
      "Question: Saint Petersburg is a twin city of\n",
      "Expected answer:  Warsaw\n",
      "Generated answer: Lening\n"
     ]
    },
    {
     "name": "stderr",
     "output_type": "stream",
     "text": [
      " 18%|█▊        | 18/100 [00:08<00:43,  1.88it/s]Setting `pad_token_id` to `eos_token_id`:128001 for open-end generation.\n",
      " 19%|█▉        | 19/100 [00:09<00:48,  1.67it/s]Setting `pad_token_id` to `eos_token_id`:128001 for open-end generation.\n"
     ]
    },
    {
     "name": "stdout",
     "output_type": "stream",
     "text": [
      "Question: Porsche 911, created by\n",
      "Expected answer:  Porsche\n",
      "Generated answer: Ferdinand Porsche\n"
     ]
    },
    {
     "name": "stderr",
     "output_type": "stream",
     "text": [
      " 20%|██        | 20/100 [00:10<00:43,  1.83it/s]Setting `pad_token_id` to `eos_token_id`:128001 for open-end generation.\n"
     ]
    },
    {
     "name": "stdout",
     "output_type": "stream",
     "text": [
      "Question: Robert William Muench is a\n",
      "Expected answer:  bishop\n",
      "Generated answer: A\n"
     ]
    },
    {
     "name": "stderr",
     "output_type": "stream",
     "text": [
      " 21%|██        | 21/100 [00:10<00:39,  1.98it/s]Setting `pad_token_id` to `eos_token_id`:128001 for open-end generation.\n"
     ]
    },
    {
     "name": "stdout",
     "output_type": "stream",
     "text": [
      "Question: Inner Circle railway line can be found in\n",
      "Expected answer:  Melbourne\n",
      "Generated answer: London\n"
     ]
    },
    {
     "name": "stderr",
     "output_type": "stream",
     "text": [
      " 22%|██▏       | 22/100 [00:11<00:48,  1.61it/s]Setting `pad_token_id` to `eos_token_id`:128001 for open-end generation.\n",
      " 23%|██▎       | 23/100 [00:11<00:43,  1.76it/s]Setting `pad_token_id` to `eos_token_id`:128001 for open-end generation.\n",
      " 24%|██▍       | 24/100 [00:12<00:39,  1.93it/s]Setting `pad_token_id` to `eos_token_id`:128001 for open-end generation.\n"
     ]
    },
    {
     "name": "stdout",
     "output_type": "stream",
     "text": [
      "Question: Charles Alfred Pillsbury expired at\n",
      "Expected answer:  Minneapolis\n",
      "Generated answer: 194\n"
     ]
    },
    {
     "name": "stderr",
     "output_type": "stream",
     "text": [
      " 25%|██▌       | 25/100 [00:12<00:36,  2.08it/s]Setting `pad_token_id` to `eos_token_id`:128001 for open-end generation.\n",
      " 26%|██▌       | 26/100 [00:13<00:39,  1.87it/s]Setting `pad_token_id` to `eos_token_id`:128001 for open-end generation.\n",
      " 27%|██▋       | 27/100 [00:14<00:48,  1.50it/s]Setting `pad_token_id` to `eos_token_id`:128001 for open-end generation.\n"
     ]
    },
    {
     "name": "stdout",
     "output_type": "stream",
     "text": [
      "Question: Billy Roche, who works as\n",
      "Expected answer:  actor\n",
      "Generated answer: a\n"
     ]
    },
    {
     "name": "stderr",
     "output_type": "stream",
     "text": [
      " 28%|██▊       | 28/100 [00:14<00:42,  1.68it/s]Setting `pad_token_id` to `eos_token_id`:128001 for open-end generation.\n"
     ]
    },
    {
     "name": "stdout",
     "output_type": "stream",
     "text": [
      "Question: Jean Gaven, speaker of\n",
      "Expected answer:  French\n",
      "Generated answer: the French\n"
     ]
    },
    {
     "name": "stderr",
     "output_type": "stream",
     "text": [
      " 29%|██▉       | 29/100 [00:15<00:38,  1.85it/s]Setting `pad_token_id` to `eos_token_id`:128001 for open-end generation.\n"
     ]
    },
    {
     "name": "stdout",
     "output_type": "stream",
     "text": [
      "Question: Pidgeon Island belongs to the continent of\n",
      "Expected answer:  Antarctica\n",
      "Generated answer: Oce\n"
     ]
    },
    {
     "name": "stderr",
     "output_type": "stream",
     "text": [
      " 30%|███       | 30/100 [00:15<00:34,  2.00it/s]Setting `pad_token_id` to `eos_token_id`:128001 for open-end generation.\n",
      " 31%|███       | 31/100 [00:15<00:33,  2.08it/s]Setting `pad_token_id` to `eos_token_id`:128001 for open-end generation.\n"
     ]
    },
    {
     "name": "stdout",
     "output_type": "stream",
     "text": [
      "Question: Leonardo Balada found employment in\n",
      "Expected answer:  Pittsburgh\n",
      "Generated answer: Spain\n"
     ]
    },
    {
     "name": "stderr",
     "output_type": "stream",
     "text": [
      " 32%|███▏      | 32/100 [00:17<00:48,  1.40it/s]Setting `pad_token_id` to `eos_token_id`:128001 for open-end generation.\n"
     ]
    },
    {
     "name": "stdout",
     "output_type": "stream",
     "text": [
      "Question: controller.controller, that originated in\n",
      "Expected answer:  Canada\n",
      "Generated answer: 1\n"
     ]
    },
    {
     "name": "stderr",
     "output_type": "stream",
     "text": [
      " 33%|███▎      | 33/100 [00:17<00:42,  1.59it/s]Setting `pad_token_id` to `eos_token_id`:128001 for open-end generation.\n"
     ]
    },
    {
     "name": "stdout",
     "output_type": "stream",
     "text": [
      "Question: What does Sylvano Bussotti play? They play\n",
      "Expected answer:  opera\n",
      "Generated answer: The piano\n"
     ]
    },
    {
     "name": "stderr",
     "output_type": "stream",
     "text": [
      " 34%|███▍      | 34/100 [00:18<00:37,  1.78it/s]Setting `pad_token_id` to `eos_token_id`:128001 for open-end generation.\n"
     ]
    },
    {
     "name": "stdout",
     "output_type": "stream",
     "text": [
      "Question: The headquarter of Majorette is located in\n",
      "Expected answer:  Lyon\n",
      "Generated answer: France\n"
     ]
    },
    {
     "name": "stderr",
     "output_type": "stream",
     "text": [
      " 35%|███▌      | 35/100 [00:18<00:40,  1.60it/s]Setting `pad_token_id` to `eos_token_id`:128001 for open-end generation.\n"
     ]
    },
    {
     "name": "stdout",
     "output_type": "stream",
     "text": [
      "Question: Laurent Cars was employed in\n",
      "Expected answer:  Paris\n",
      "Generated answer: 200\n"
     ]
    },
    {
     "name": "stderr",
     "output_type": "stream",
     "text": [
      " 36%|███▌      | 36/100 [00:19<00:35,  1.78it/s]Setting `pad_token_id` to `eos_token_id`:128001 for open-end generation.\n"
     ]
    },
    {
     "name": "stdout",
     "output_type": "stream",
     "text": [
      "Question: Ferrari Mondial, created by\n",
      "Expected answer:  Ferrari\n",
      "Generated answer: Enzo\n"
     ]
    },
    {
     "name": "stderr",
     "output_type": "stream",
     "text": [
      " 37%|███▋      | 37/100 [00:19<00:32,  1.93it/s]Setting `pad_token_id` to `eos_token_id`:128001 for open-end generation.\n"
     ]
    },
    {
     "name": "stdout",
     "output_type": "stream",
     "text": [
      "Question: The native language of Symeon of Polotsk is\n",
      "Expected answer:  Russian\n",
      "Generated answer: Belarusian\n"
     ]
    },
    {
     "name": "stderr",
     "output_type": "stream",
     "text": [
      " 38%|███▊      | 38/100 [00:20<00:44,  1.41it/s]Setting `pad_token_id` to `eos_token_id`:128001 for open-end generation.\n"
     ]
    },
    {
     "name": "stdout",
     "output_type": "stream",
     "text": [
      "Question: Triumph TR8, produced by\n",
      "Expected answer:  Triumph\n",
      "Generated answer: Rover\n"
     ]
    },
    {
     "name": "stderr",
     "output_type": "stream",
     "text": [
      " 39%|███▉      | 39/100 [00:21<00:38,  1.60it/s]Setting `pad_token_id` to `eos_token_id`:128001 for open-end generation.\n"
     ]
    },
    {
     "name": "stdout",
     "output_type": "stream",
     "text": [
      "Question: Jeep Commander is produced by\n",
      "Expected answer:  Jeep\n",
      "Generated answer: Chrysler\n"
     ]
    },
    {
     "name": "stderr",
     "output_type": "stream",
     "text": [
      " 40%|████      | 40/100 [00:21<00:33,  1.79it/s]Setting `pad_token_id` to `eos_token_id`:128001 for open-end generation.\n"
     ]
    },
    {
     "name": "stdout",
     "output_type": "stream",
     "text": [
      "Question: The Loner was released on\n",
      "Expected answer:  CBS\n",
      "Generated answer: 197\n"
     ]
    },
    {
     "name": "stderr",
     "output_type": "stream",
     "text": [
      " 41%|████      | 41/100 [00:22<00:31,  1.86it/s]Setting `pad_token_id` to `eos_token_id`:128001 for open-end generation.\n"
     ]
    },
    {
     "name": "stdout",
     "output_type": "stream",
     "text": [
      "Question: Kharkiv is a twin city of\n",
      "Expected answer:  Warsaw\n",
      "Generated answer: Lviv\n"
     ]
    },
    {
     "name": "stderr",
     "output_type": "stream",
     "text": [
      " 42%|████▏     | 42/100 [00:22<00:34,  1.67it/s]Setting `pad_token_id` to `eos_token_id`:128001 for open-end generation.\n",
      " 43%|████▎     | 43/100 [00:23<00:31,  1.83it/s]Setting `pad_token_id` to `eos_token_id`:128001 for open-end generation.\n",
      " 44%|████▍     | 44/100 [00:23<00:28,  1.97it/s]Setting `pad_token_id` to `eos_token_id`:128001 for open-end generation.\n"
     ]
    },
    {
     "name": "stdout",
     "output_type": "stream",
     "text": [
      "Question: Howard Glacier is located in\n",
      "Expected answer:  Antarctica\n",
      "Generated answer: Alaska\n"
     ]
    },
    {
     "name": "stderr",
     "output_type": "stream",
     "text": [
      " 45%|████▌     | 45/100 [00:24<00:26,  2.08it/s]Setting `pad_token_id` to `eos_token_id`:128001 for open-end generation.\n"
     ]
    },
    {
     "name": "stdout",
     "output_type": "stream",
     "text": [
      "Question: The language used by Gilad Atzmon is\n",
      "Expected answer:  Hebrew\n",
      "Generated answer: English\n"
     ]
    },
    {
     "name": "stderr",
     "output_type": "stream",
     "text": [
      " 46%|████▌     | 46/100 [00:24<00:26,  2.03it/s]Setting `pad_token_id` to `eos_token_id`:128001 for open-end generation.\n"
     ]
    },
    {
     "name": "stdout",
     "output_type": "stream",
     "text": [
      "Question: Emilio Lussu speaks\n",
      "Expected answer:  Italian\n",
      "Generated answer: of the\n"
     ]
    },
    {
     "name": "stderr",
     "output_type": "stream",
     "text": [
      " 47%|████▋     | 47/100 [00:26<00:40,  1.32it/s]Setting `pad_token_id` to `eos_token_id`:128001 for open-end generation.\n"
     ]
    },
    {
     "name": "stdout",
     "output_type": "stream",
     "text": [
      "Question: Maso da San Friano passed away at\n",
      "Expected answer:  Florence\n",
      "Generated answer: 162\n"
     ]
    },
    {
     "name": "stderr",
     "output_type": "stream",
     "text": [
      " 48%|████▊     | 48/100 [00:26<00:34,  1.52it/s]Setting `pad_token_id` to `eos_token_id`:128001 for open-end generation.\n",
      " 49%|████▉     | 49/100 [00:26<00:29,  1.72it/s]Setting `pad_token_id` to `eos_token_id`:128001 for open-end generation.\n"
     ]
    },
    {
     "name": "stdout",
     "output_type": "stream",
     "text": [
      "Question: IBM Connections, created by\n",
      "Expected answer:  IBM\n",
      "Generated answer: HCL\n"
     ]
    },
    {
     "name": "stderr",
     "output_type": "stream",
     "text": [
      " 50%|█████     | 50/100 [00:27<00:32,  1.52it/s]Setting `pad_token_id` to `eos_token_id`:128001 for open-end generation.\n",
      " 51%|█████     | 51/100 [00:28<00:28,  1.71it/s]Setting `pad_token_id` to `eos_token_id`:128001 for open-end generation.\n"
     ]
    },
    {
     "name": "stdout",
     "output_type": "stream",
     "text": [
      "Question: Webley & Scott was started in\n",
      "Expected answer:  Birmingham\n",
      "Generated answer: 182\n"
     ]
    },
    {
     "name": "stderr",
     "output_type": "stream",
     "text": [
      " 52%|█████▏    | 52/100 [00:28<00:25,  1.88it/s]Setting `pad_token_id` to `eos_token_id`:128001 for open-end generation.\n",
      " 53%|█████▎    | 53/100 [00:29<00:27,  1.68it/s]Setting `pad_token_id` to `eos_token_id`:128001 for open-end generation.\n",
      " 54%|█████▍    | 54/100 [00:29<00:24,  1.84it/s]Setting `pad_token_id` to `eos_token_id`:128001 for open-end generation.\n"
     ]
    },
    {
     "name": "stdout",
     "output_type": "stream",
     "text": [
      "Question: Pochepsky District, which is located in\n",
      "Expected answer:  Russia\n",
      "Generated answer: Bryansk\n"
     ]
    },
    {
     "name": "stderr",
     "output_type": "stream",
     "text": [
      " 55%|█████▌    | 55/100 [00:30<00:26,  1.70it/s]Setting `pad_token_id` to `eos_token_id`:128001 for open-end generation.\n",
      " 56%|█████▌    | 56/100 [00:30<00:23,  1.87it/s]Setting `pad_token_id` to `eos_token_id`:128001 for open-end generation.\n"
     ]
    },
    {
     "name": "stdout",
     "output_type": "stream",
     "text": [
      "Question: John James Rickard Macleod's domain of work is\n",
      "Expected answer:  physiology\n",
      "Generated answer: Biochemistry\n"
     ]
    },
    {
     "name": "stderr",
     "output_type": "stream",
     "text": [
      " 57%|█████▋    | 57/100 [00:31<00:26,  1.64it/s]Setting `pad_token_id` to `eos_token_id`:128001 for open-end generation.\n",
      " 58%|█████▊    | 58/100 [00:32<00:23,  1.81it/s]Setting `pad_token_id` to `eos_token_id`:128001 for open-end generation.\n"
     ]
    },
    {
     "name": "stdout",
     "output_type": "stream",
     "text": [
      "Question: Gilles Grimandi was born in\n",
      "Expected answer:  Gap\n",
      "Generated answer: 196\n"
     ]
    },
    {
     "name": "stderr",
     "output_type": "stream",
     "text": [
      " 59%|█████▉    | 59/100 [00:32<00:20,  1.96it/s]Setting `pad_token_id` to `eos_token_id`:128001 for open-end generation.\n",
      " 60%|██████    | 60/100 [00:33<00:25,  1.59it/s]Setting `pad_token_id` to `eos_token_id`:128001 for open-end generation.\n",
      " 61%|██████    | 61/100 [00:33<00:22,  1.76it/s]Setting `pad_token_id` to `eos_token_id`:128001 for open-end generation.\n",
      " 62%|██████▏   | 62/100 [00:34<00:19,  1.93it/s]Setting `pad_token_id` to `eos_token_id`:128001 for open-end generation.\n"
     ]
    },
    {
     "name": "stdout",
     "output_type": "stream",
     "text": [
      "Question: Henry Mackenzie originates from\n",
      "Expected answer:  Edinburgh\n",
      "Generated answer: Scotland\n"
     ]
    },
    {
     "name": "stderr",
     "output_type": "stream",
     "text": [
      " 63%|██████▎   | 63/100 [00:34<00:19,  1.86it/s]Setting `pad_token_id` to `eos_token_id`:128001 for open-end generation.\n"
     ]
    },
    {
     "name": "stdout",
     "output_type": "stream",
     "text": [
      "Question: Centocelle Airport is named for\n",
      "Expected answer:  Rome\n",
      "Generated answer: Centoc\n"
     ]
    },
    {
     "name": "stderr",
     "output_type": "stream",
     "text": [
      " 64%|██████▍   | 64/100 [00:35<00:21,  1.69it/s]Setting `pad_token_id` to `eos_token_id`:128001 for open-end generation.\n"
     ]
    },
    {
     "name": "stdout",
     "output_type": "stream",
     "text": [
      "Question: James Hardiman speaks\n",
      "Expected answer:  English\n",
      "Generated answer: of the\n"
     ]
    },
    {
     "name": "stderr",
     "output_type": "stream",
     "text": [
      " 65%|██████▌   | 65/100 [00:35<00:18,  1.86it/s]Setting `pad_token_id` to `eos_token_id`:128001 for open-end generation.\n"
     ]
    },
    {
     "name": "stdout",
     "output_type": "stream",
     "text": [
      "Question: Gregg Edelman works as\n",
      "Expected answer:  actor\n",
      "Generated answer: a\n"
     ]
    },
    {
     "name": "stderr",
     "output_type": "stream",
     "text": [
      " 66%|██████▌   | 66/100 [00:36<00:16,  2.01it/s]Setting `pad_token_id` to `eos_token_id`:128001 for open-end generation.\n",
      " 67%|██████▋   | 67/100 [00:37<00:19,  1.69it/s]Setting `pad_token_id` to `eos_token_id`:128001 for open-end generation.\n"
     ]
    },
    {
     "name": "stdout",
     "output_type": "stream",
     "text": [
      "Question: Kuala Langat, located in\n",
      "Expected answer:  Malaysia\n",
      "Generated answer: Selang\n"
     ]
    },
    {
     "name": "stderr",
     "output_type": "stream",
     "text": [
      " 68%|██████▊   | 68/100 [00:37<00:17,  1.85it/s]Setting `pad_token_id` to `eos_token_id`:128001 for open-end generation.\n",
      " 69%|██████▉   | 69/100 [00:38<00:17,  1.75it/s]Setting `pad_token_id` to `eos_token_id`:128001 for open-end generation.\n"
     ]
    },
    {
     "name": "stdout",
     "output_type": "stream",
     "text": [
      "Question: Ryan Archibald is native to\n",
      "Expected answer:  Auckland\n",
      "Generated answer: Australia\n"
     ]
    },
    {
     "name": "stderr",
     "output_type": "stream",
     "text": [
      " 70%|███████   | 70/100 [00:38<00:15,  1.91it/s]Setting `pad_token_id` to `eos_token_id`:128001 for open-end generation.\n"
     ]
    },
    {
     "name": "stdout",
     "output_type": "stream",
     "text": [
      "Question: Dateline NBC premiered on\n",
      "Expected answer:  NBC\n",
      "Generated answer: 199\n"
     ]
    },
    {
     "name": "stderr",
     "output_type": "stream",
     "text": [
      " 71%|███████   | 71/100 [00:39<00:16,  1.74it/s]Setting `pad_token_id` to `eos_token_id`:128001 for open-end generation.\n"
     ]
    },
    {
     "name": "stdout",
     "output_type": "stream",
     "text": [
      "Question: The twin city of Beirut is\n",
      "Expected answer:  Istanbul\n",
      "Generated answer: Damascus\n"
     ]
    },
    {
     "name": "stderr",
     "output_type": "stream",
     "text": [
      " 72%|███████▏  | 72/100 [00:39<00:14,  1.89it/s]Setting `pad_token_id` to `eos_token_id`:128001 for open-end generation.\n"
     ]
    },
    {
     "name": "stdout",
     "output_type": "stream",
     "text": [
      "Question: San Marino Football Federation is a part of the\n",
      "Expected answer:  FIFA\n",
      "Generated answer: UEFA\n"
     ]
    },
    {
     "name": "stderr",
     "output_type": "stream",
     "text": [
      " 73%|███████▎  | 73/100 [00:40<00:15,  1.70it/s]Setting `pad_token_id` to `eos_token_id`:128001 for open-end generation.\n"
     ]
    },
    {
     "name": "stdout",
     "output_type": "stream",
     "text": [
      "Question: Cao Yunding was native to\n",
      "Expected answer:  Shanghai\n",
      "Generated answer: Shand\n"
     ]
    },
    {
     "name": "stderr",
     "output_type": "stream",
     "text": [
      " 74%|███████▍  | 74/100 [00:40<00:14,  1.83it/s]Setting `pad_token_id` to `eos_token_id`:128001 for open-end generation.\n",
      " 75%|███████▌  | 75/100 [00:41<00:14,  1.77it/s]Setting `pad_token_id` to `eos_token_id`:128001 for open-end generation.\n",
      " 76%|███████▌  | 76/100 [00:41<00:12,  1.92it/s]Setting `pad_token_id` to `eos_token_id`:128001 for open-end generation.\n"
     ]
    },
    {
     "name": "stdout",
     "output_type": "stream",
     "text": [
      "Question: The native language of Tanya Lopert is\n",
      "Expected answer:  French\n",
      "Generated answer: English\n"
     ]
    },
    {
     "name": "stderr",
     "output_type": "stream",
     "text": [
      " 77%|███████▋  | 77/100 [00:42<00:14,  1.64it/s]Setting `pad_token_id` to `eos_token_id`:128001 for open-end generation.\n"
     ]
    },
    {
     "name": "stdout",
     "output_type": "stream",
     "text": [
      "Question: Nancy Astor, Viscountess Astor was employed in\n",
      "Expected answer:  London\n",
      "Generated answer: Parliament\n"
     ]
    },
    {
     "name": "stderr",
     "output_type": "stream",
     "text": [
      " 78%|███████▊  | 78/100 [00:43<00:12,  1.81it/s]Setting `pad_token_id` to `eos_token_id`:128001 for open-end generation.\n",
      " 79%|███████▉  | 79/100 [00:43<00:10,  1.95it/s]Setting `pad_token_id` to `eos_token_id`:128001 for open-end generation.\n"
     ]
    },
    {
     "name": "stdout",
     "output_type": "stream",
     "text": [
      "Question: George Goring, Lord Goring speaks the language\n",
      "Expected answer:  English\n",
      "Generated answer: French\n"
     ]
    },
    {
     "name": "stderr",
     "output_type": "stream",
     "text": [
      " 80%|████████  | 80/100 [00:44<00:13,  1.53it/s]Setting `pad_token_id` to `eos_token_id`:128001 for open-end generation.\n",
      " 81%|████████  | 81/100 [00:44<00:11,  1.70it/s]Setting `pad_token_id` to `eos_token_id`:128001 for open-end generation.\n"
     ]
    },
    {
     "name": "stdout",
     "output_type": "stream",
     "text": [
      "Question: Fedele Fischetti died in the city of\n",
      "Expected answer:  Naples\n",
      "Generated answer: Rome\n"
     ]
    },
    {
     "name": "stderr",
     "output_type": "stream",
     "text": [
      " 82%|████████▏ | 82/100 [00:45<00:09,  1.87it/s]Setting `pad_token_id` to `eos_token_id`:128001 for open-end generation.\n"
     ]
    },
    {
     "name": "stdout",
     "output_type": "stream",
     "text": [
      "Question: Running Mates debuted on\n",
      "Expected answer:  TNT\n",
      "Generated answer: 201\n"
     ]
    },
    {
     "name": "stderr",
     "output_type": "stream",
     "text": [
      " 83%|████████▎ | 83/100 [00:46<00:11,  1.51it/s]Setting `pad_token_id` to `eos_token_id`:128001 for open-end generation.\n"
     ]
    },
    {
     "name": "stdout",
     "output_type": "stream",
     "text": [
      "Question: George V Coast is a part of the continent of\n",
      "Expected answer:  Antarctica\n",
      "Generated answer: Africa\n"
     ]
    },
    {
     "name": "stderr",
     "output_type": "stream",
     "text": [
      " 84%|████████▍ | 84/100 [00:46<00:09,  1.70it/s]Setting `pad_token_id` to `eos_token_id`:128001 for open-end generation.\n"
     ]
    },
    {
     "name": "stdout",
     "output_type": "stream",
     "text": [
      "Question: Gabbro Hills is in\n",
      "Expected answer:  Antarctica\n",
      "Generated answer: 1\n"
     ]
    },
    {
     "name": "stderr",
     "output_type": "stream",
     "text": [
      " 85%|████████▌ | 85/100 [00:47<00:07,  1.88it/s]Setting `pad_token_id` to `eos_token_id`:128001 for open-end generation.\n",
      " 86%|████████▌ | 86/100 [00:47<00:08,  1.58it/s]Setting `pad_token_id` to `eos_token_id`:128001 for open-end generation.\n",
      " 87%|████████▋ | 87/100 [00:48<00:07,  1.75it/s]Setting `pad_token_id` to `eos_token_id`:128001 for open-end generation.\n",
      " 88%|████████▊ | 88/100 [00:48<00:06,  1.90it/s]Setting `pad_token_id` to `eos_token_id`:128001 for open-end generation.\n"
     ]
    },
    {
     "name": "stdout",
     "output_type": "stream",
     "text": [
      "Question: Gilli Smyth belongs to the organization of\n",
      "Expected answer:  Gong\n",
      "Generated answer: Pink Floyd\n"
     ]
    },
    {
     "name": "stderr",
     "output_type": "stream",
     "text": [
      " 89%|████████▉ | 89/100 [00:49<00:06,  1.60it/s]Setting `pad_token_id` to `eos_token_id`:128001 for open-end generation.\n"
     ]
    },
    {
     "name": "stdout",
     "output_type": "stream",
     "text": [
      "Question: Charles IV of Spain's life ended in\n",
      "Expected answer:  Rome\n",
      "Generated answer: 178\n"
     ]
    },
    {
     "name": "stderr",
     "output_type": "stream",
     "text": [
      " 90%|█████████ | 90/100 [00:50<00:05,  1.78it/s]Setting `pad_token_id` to `eos_token_id`:128001 for open-end generation.\n"
     ]
    },
    {
     "name": "stdout",
     "output_type": "stream",
     "text": [
      "Question: The language of Zampa is\n",
      "Expected answer:  French\n",
      "Generated answer: Spanish\n"
     ]
    },
    {
     "name": "stderr",
     "output_type": "stream",
     "text": [
      " 91%|█████████ | 91/100 [00:50<00:04,  1.89it/s]Setting `pad_token_id` to `eos_token_id`:128001 for open-end generation.\n"
     ]
    },
    {
     "name": "stdout",
     "output_type": "stream",
     "text": [
      "Question: The twin city of Rabat is\n",
      "Expected answer:  Damascus\n",
      "Generated answer: Sale\n"
     ]
    },
    {
     "name": "stderr",
     "output_type": "stream",
     "text": [
      " 92%|█████████▏| 92/100 [00:51<00:04,  1.96it/s]Setting `pad_token_id` to `eos_token_id`:128001 for open-end generation.\n"
     ]
    },
    {
     "name": "stdout",
     "output_type": "stream",
     "text": [
      "Question: LeRoy Collins worked in the city of\n",
      "Expected answer:  Florida\n",
      "Generated answer: Tallahas\n"
     ]
    },
    {
     "name": "stderr",
     "output_type": "stream",
     "text": [
      " 93%|█████████▎| 93/100 [00:52<00:04,  1.43it/s]Setting `pad_token_id` to `eos_token_id`:128001 for open-end generation.\n",
      " 94%|█████████▍| 94/100 [00:52<00:03,  1.62it/s]Setting `pad_token_id` to `eos_token_id`:128001 for open-end generation.\n",
      " 95%|█████████▌| 95/100 [00:53<00:02,  1.80it/s]Setting `pad_token_id` to `eos_token_id`:128001 for open-end generation.\n"
     ]
    },
    {
     "name": "stdout",
     "output_type": "stream",
     "text": [
      "Question: Flotation Toy Warning, founded in\n",
      "Expected answer:  London\n",
      "Generated answer: 200\n"
     ]
    },
    {
     "name": "stderr",
     "output_type": "stream",
     "text": [
      " 96%|█████████▌| 96/100 [00:53<00:02,  1.97it/s]Setting `pad_token_id` to `eos_token_id`:128001 for open-end generation.\n",
      " 97%|█████████▋| 97/100 [00:54<00:01,  1.84it/s]Setting `pad_token_id` to `eos_token_id`:128001 for open-end generation.\n"
     ]
    },
    {
     "name": "stdout",
     "output_type": "stream",
     "text": [
      "Question: Pantelis Kafes plays in the position of\n",
      "Expected answer:  midfielder\n",
      "Generated answer: Midfield\n"
     ]
    },
    {
     "name": "stderr",
     "output_type": "stream",
     "text": [
      " 98%|█████████▊| 98/100 [00:55<00:01,  1.49it/s]Setting `pad_token_id` to `eos_token_id`:128001 for open-end generation.\n",
      " 99%|█████████▉| 99/100 [00:55<00:00,  1.68it/s]Setting `pad_token_id` to `eos_token_id`:128001 for open-end generation.\n"
     ]
    },
    {
     "name": "stdout",
     "output_type": "stream",
     "text": [
      "Question: Mama Corsica was written in\n",
      "Expected answer:  French\n",
      "Generated answer: 201\n"
     ]
    },
    {
     "name": "stderr",
     "output_type": "stream",
     "text": [
      "100%|██████████| 100/100 [00:56<00:00,  1.78it/s]"
     ]
    },
    {
     "name": "stdout",
     "output_type": "stream",
     "text": [
      "Question: Savdhaan India @ 11, formulated in\n",
      "Expected answer:  India\n",
      "Generated answer: 201\n",
      "Accuracy: 1.85\n"
     ]
    },
    {
     "name": "stderr",
     "output_type": "stream",
     "text": [
      "\n"
     ]
    }
   ],
   "source": [
    "correct = 0\n",
    "total_questions = 20\n",
    "for i in trange(total_questions):\n",
    "    question = ds['train']['prompt'][i]\n",
    "    expected_answer = ds['train']['target_true'][i]\n",
    "    answer, _ = generate_short_answer(question, sample_answer=False)\n",
    "    answer_correct = answer.lower().strip() == expected_answer.lower().strip()\n",
    "    correct += answer_correct\n",
    "    if not answer_correct:\n",
    "        print(f\"Question: {question}\")\n",
    "        print(f\"Expected answer: {expected_answer}\")\n",
    "        print(f\"Generated answer: {answer}\")\n",
    "        \n",
    "print(f\"Accuracy: {correct / total_questions:.2f}\")\n"
   ]
  }
 ],
 "metadata": {
  "kernelspec": {
   "display_name": "Python 3 (ipykernel)",
   "language": "python",
   "name": "python3"
  },
  "language_info": {
   "codemirror_mode": {
    "name": "ipython",
    "version": 3
   },
   "file_extension": ".py",
   "mimetype": "text/x-python",
   "name": "python",
   "nbconvert_exporter": "python",
   "pygments_lexer": "ipython3",
   "version": "3.11.5"
  }
 },
 "nbformat": 4,
 "nbformat_minor": 4
}
